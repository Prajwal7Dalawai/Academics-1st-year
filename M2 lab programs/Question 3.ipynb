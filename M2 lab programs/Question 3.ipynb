{
 "cells": [
  {
   "cell_type": "code",
   "execution_count": 3,
   "id": "1b4cdee9",
   "metadata": {},
   "outputs": [
    {
     "name": "stdout",
     "output_type": "stream",
     "text": [
      "Enter the funtion:x**3-2*x-5\n",
      "Enter a value:2\n",
      "Enter a value:3\n",
      "Enter the number of iterations:5\n",
      "Iteration\tThe root\tFuntion Value\t\n",
      "1\t\t2.059\t\t-0.391\n",
      "\n",
      "2\t\t2.081\t\t-0.147\n",
      "\n",
      "3\t\t2.090\t\t-0.055\n",
      "\n",
      "4\t\t2.093\t\t-0.020\n",
      "\n",
      "5\t\t2.094\t\t-0.007\n",
      "\n"
     ]
    }
   ],
   "source": [
    "#Write a Python Program to obtain root of equation x**2-2*x-5=0 between 2 and 3 by regula farsi method.\n",
    "from sympy import *\n",
    "x=Symbol('x')\n",
    "g=input(\"Enter the funtion:\")\n",
    "f=lambdify(x,g)\n",
    "a=float(input('Enter a value:'))\n",
    "b=float(input('Enter a value:'))\n",
    "N=int(input('Enter the number of iterations:'))\n",
    "print('Iteration\\tThe root\\tFuntion Value\\t')\n",
    "for i in range(1,N+1):\n",
    "    c=(a*f(b)-b*f(a))/(f(b)-f(a))\n",
    "    if f(a)*f(c)<0:\n",
    "        b=c\n",
    "    else:\n",
    "        a=c\n",
    "    print('%d\\t\\t%0.3f\\t\\t%0.3f\\n'%(i,c,f(c)))    "
   ]
  }
 ],
 "metadata": {
  "kernelspec": {
   "display_name": "Python 3 (ipykernel)",
   "language": "python",
   "name": "python3"
  },
  "language_info": {
   "codemirror_mode": {
    "name": "ipython",
    "version": 3
   },
   "file_extension": ".py",
   "mimetype": "text/x-python",
   "name": "python",
   "nbconvert_exporter": "python",
   "pygments_lexer": "ipython3",
   "version": "3.9.13"
  }
 },
 "nbformat": 4,
 "nbformat_minor": 5
}
