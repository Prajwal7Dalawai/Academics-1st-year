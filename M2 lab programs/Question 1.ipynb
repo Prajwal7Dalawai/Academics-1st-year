{
 "cells": [
  {
   "cell_type": "code",
   "execution_count": 2,
   "id": "7a95687a",
   "metadata": {},
   "outputs": [
    {
     "name": "stdout",
     "output_type": "stream",
     "text": [
      "81/80\n"
     ]
    }
   ],
   "source": [
    "#Write A Python Program to evaluate the integral\n",
    "from sympy import *\n",
    "x,y,z=symbols('x y z')\n",
    "w1=integrate((x*y*z),(z,0,3-x-y),(y,0,3-x),(x,0,3))\n",
    "print(w1)"
   ]
  },
  {
   "cell_type": "code",
   "execution_count": null,
   "id": "a273ca0f",
   "metadata": {},
   "outputs": [],
   "source": []
  },
  {
   "cell_type": "code",
   "execution_count": null,
   "id": "984abd3e",
   "metadata": {},
   "outputs": [],
   "source": []
  }
 ],
 "metadata": {
  "kernelspec": {
   "display_name": "Python 3 (ipykernel)",
   "language": "python",
   "name": "python3"
  },
  "language_info": {
   "codemirror_mode": {
    "name": "ipython",
    "version": 3
   },
   "file_extension": ".py",
   "mimetype": "text/x-python",
   "name": "python",
   "nbconvert_exporter": "python",
   "pygments_lexer": "ipython3",
   "version": "3.9.13"
  }
 },
 "nbformat": 4,
 "nbformat_minor": 5
}
