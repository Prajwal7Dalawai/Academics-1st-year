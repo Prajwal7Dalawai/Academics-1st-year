{
 "cells": [
  {
   "cell_type": "code",
   "execution_count": 3,
   "id": "d4614f73",
   "metadata": {},
   "outputs": [
    {
     "name": "stdout",
     "output_type": "stream",
     "text": [
      "The basis of matrix is  3\n",
      "Dimension of the matrix is  3\n"
     ]
    }
   ],
   "source": [
    "#Write a Python Program to find the dimensions of a subspace spanned by vectors (1,2,3),(2,3,1),(3,1,2)\n",
    "import numpy as np\n",
    "V=np.array([[1,2,3],[2,3,1],[3,1,2]])\n",
    "basis=np.linalg.matrix_rank(V)\n",
    "dimension=V.shape[0]\n",
    "print(\"The basis of matrix is \",basis)\n",
    "print('Dimension of the matrix is ',dimension)"
   ]
  }
 ],
 "metadata": {
  "kernelspec": {
   "display_name": "Python 3 (ipykernel)",
   "language": "python",
   "name": "python3"
  },
  "language_info": {
   "codemirror_mode": {
    "name": "ipython",
    "version": 3
   },
   "file_extension": ".py",
   "mimetype": "text/x-python",
   "name": "python",
   "nbconvert_exporter": "python",
   "pygments_lexer": "ipython3",
   "version": "3.9.13"
  }
 },
 "nbformat": 4,
 "nbformat_minor": 5
}
