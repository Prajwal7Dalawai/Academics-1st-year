{
 "cells": [
  {
   "cell_type": "code",
   "execution_count": 2,
   "id": "58d53f95",
   "metadata": {},
   "outputs": [
    {
     "name": "stdout",
     "output_type": "stream",
     "text": [
      "24.0⋅π\n"
     ]
    }
   ],
   "source": [
    "#Write a Python Program to find the area of the ellipse by double integration \n",
    "from sympy import *\n",
    "x,y=symbols('x y')\n",
    "a=4\n",
    "b=6\n",
    "w1=4*(integrate((1),(y,0,(b/a)*sqrt(a**2-x**2)),(x,0,a)))\n",
    "pprint(w1)"
   ]
  },
  {
   "cell_type": "code",
   "execution_count": null,
   "id": "845c2959",
   "metadata": {},
   "outputs": [],
   "source": []
  }
 ],
 "metadata": {
  "kernelspec": {
   "display_name": "Python 3 (ipykernel)",
   "language": "python",
   "name": "python3"
  },
  "language_info": {
   "codemirror_mode": {
    "name": "ipython",
    "version": 3
   },
   "file_extension": ".py",
   "mimetype": "text/x-python",
   "name": "python",
   "nbconvert_exporter": "python",
   "pygments_lexer": "ipython3",
   "version": "3.9.13"
  }
 },
 "nbformat": 4,
 "nbformat_minor": 5
}
