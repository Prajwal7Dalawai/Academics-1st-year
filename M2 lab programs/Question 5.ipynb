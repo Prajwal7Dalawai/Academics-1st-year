{
 "cells": [
  {
   "cell_type": "code",
   "execution_count": 2,
   "id": "f4ad8d8e",
   "metadata": {},
   "outputs": [
    {
     "data": {
      "text/plain": [
       "array([2.  , 2.62, 3.27, 3.95, 4.66, 5.39])"
      ]
     },
     "execution_count": 2,
     "metadata": {},
     "output_type": "execute_result"
    }
   ],
   "source": [
    "#Apply range Kutta Method to find the solution of dy/dx=1+(y/x)\n",
    "from sympy import *\n",
    "import numpy as np\n",
    "def RangeKutta(g,x0,h,y0,xn):\n",
    "    x,y=symbols('x y')\n",
    "    f=lambdify([x,y],g)\n",
    "    xt=x0+h\n",
    "    Y=[y0]\n",
    "    while xt<=xn:\n",
    "        k1=h*f(x0,y0)\n",
    "        k2=h*f(x0+h/2,y0+k1/2)\n",
    "        k3=h*f(x0+h/2,y0+k2/2)\n",
    "        k4=h*f(x0+h,y0+k3)\n",
    "        y1=y0+(1/6)*(k1+2*k2+2*k3+k4)\n",
    "        Y.append(y1)\n",
    "        x0=xt\n",
    "        y0=y1\n",
    "        xt=xt+h\n",
    "    return np.round(Y,2)\n",
    "RangeKutta('1+(y/x)',1,0.2,2,2)"
   ]
  }
 ],
 "metadata": {
  "kernelspec": {
   "display_name": "Python 3 (ipykernel)",
   "language": "python",
   "name": "python3"
  },
  "language_info": {
   "codemirror_mode": {
    "name": "ipython",
    "version": 3
   },
   "file_extension": ".py",
   "mimetype": "text/x-python",
   "name": "python",
   "nbconvert_exporter": "python",
   "pygments_lexer": "ipython3",
   "version": "3.9.13"
  }
 },
 "nbformat": 4,
 "nbformat_minor": 5
}
