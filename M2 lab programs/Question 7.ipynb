{
 "cells": [
  {
   "cell_type": "code",
   "execution_count": 1,
   "id": "13972bf6",
   "metadata": {},
   "outputs": [
    {
     "name": "stdout",
     "output_type": "stream",
     "text": [
      "m: 2.5\n",
      "n3.5\n",
      "Gamma( 3.5 ) is 3.323\n",
      "Beta( 2.5 3.5 ) is 0.037 \n"
     ]
    }
   ],
   "source": [
    "#write a Python Program to calculate B(5/2,7/2) r(5/2)\n",
    "from sympy import beta,gamma\n",
    "m=float(input('m: '))\n",
    "n=float(input('n'))\n",
    "s=beta(m,n)\n",
    "t=gamma(n)\n",
    "print('Gamma(',n,') is %3.3f'%t)\n",
    "print('Beta(',m,n,') is %3.3f '%s)"
   ]
  }
 ],
 "metadata": {
  "kernelspec": {
   "display_name": "Python 3 (ipykernel)",
   "language": "python",
   "name": "python3"
  },
  "language_info": {
   "codemirror_mode": {
    "name": "ipython",
    "version": 3
   },
   "file_extension": ".py",
   "mimetype": "text/x-python",
   "name": "python",
   "nbconvert_exporter": "python",
   "pygments_lexer": "ipython3",
   "version": "3.9.13"
  }
 },
 "nbformat": 4,
 "nbformat_minor": 5
}
