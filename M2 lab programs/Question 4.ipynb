{
 "cells": [
  {
   "cell_type": "code",
   "execution_count": 3,
   "id": "71762076",
   "metadata": {},
   "outputs": [
    {
     "name": "stdout",
     "output_type": "stream",
     "text": [
      "6.57571\n"
     ]
    }
   ],
   "source": [
    "#Evaluate the integral using simson's (3/8) rule.\n",
    "def simson38(f,a,b,n):\n",
    "    h=b-a\n",
    "    s=f(b)+f(a)\n",
    "    for i in range(1,n,3):\n",
    "        s+=(3*f(a+i*h))\n",
    "    for i in range(3,n-1,3):\n",
    "        s+=(3*f(a+i*h))\n",
    "    for i in range(2,n-2,3):\n",
    "        s+=2*f(a+i/h)\n",
    "    return s*3*h/8\n",
    "def f(x):\n",
    "    return 1/(1+x**2)\n",
    "a=0    #lower limit\n",
    "b=6    #upper limit\n",
    "n=6    #number of sub intervals\n",
    "result=simson38(f,a,b,n)\n",
    "print('%3.5f'%result)"
   ]
  }
 ],
 "metadata": {
  "kernelspec": {
   "display_name": "Python 3 (ipykernel)",
   "language": "python",
   "name": "python3"
  },
  "language_info": {
   "codemirror_mode": {
    "name": "ipython",
    "version": 3
   },
   "file_extension": ".py",
   "mimetype": "text/x-python",
   "name": "python",
   "nbconvert_exporter": "python",
   "pygments_lexer": "ipython3",
   "version": "3.9.13"
  }
 },
 "nbformat": 4,
 "nbformat_minor": 5
}
