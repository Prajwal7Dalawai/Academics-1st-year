{
 "cells": [
  {
   "cell_type": "code",
   "execution_count": 11,
   "id": "eff37d0e",
   "metadata": {},
   "outputs": [
    {
     "data": {
      "text/latex": [
       "$\\displaystyle x^{2} y z$"
      ],
      "text/plain": [
       "x**2*y*z"
      ]
     },
     "metadata": {},
     "output_type": "display_data"
    },
    {
     "name": "stdout",
     "output_type": "stream",
     "text": [
      "\n",
      " Gradient of the matrix is=\n"
     ]
    },
    {
     "data": {
      "text/latex": [
       "$\\displaystyle 2 x y z\\mathbf{\\hat{v}_x} + x^{2} z\\mathbf{\\hat{v}_y} + x^{2} y\\mathbf{\\hat{v}_z}$"
      ],
      "text/plain": [
       "2*x*y*z*v.x + x**2*z*v.y + x**2*y*v.z"
      ]
     },
     "metadata": {},
     "output_type": "display_data"
    }
   ],
   "source": [
    "#Write a program to find the gradient of $=x**2*y*x\n",
    "from sympy.physics.vector import *\n",
    "from sympy import var,pprint\n",
    "var('x,y,z')\n",
    "v=ReferenceFrame('v')\n",
    "F=v[0]**2*v[1]*v[2]\n",
    "G=gradient(F,v)\n",
    "F=F.subs([(v[0],x),(v[1],y),(v[2],z)])\n",
    "display(F)\n",
    "G=G.subs([(v[0],x),(v[1],y),(v[2],z)])\n",
    "print('\\n Gradient of the matrix is=')\n",
    "display(G)"
   ]
  }
 ],
 "metadata": {
  "kernelspec": {
   "display_name": "Python 3 (ipykernel)",
   "language": "python",
   "name": "python3"
  },
  "language_info": {
   "codemirror_mode": {
    "name": "ipython",
    "version": 3
   },
   "file_extension": ".py",
   "mimetype": "text/x-python",
   "name": "python",
   "nbconvert_exporter": "python",
   "pygments_lexer": "ipython3",
   "version": "3.9.13"
  }
 },
 "nbformat": 4,
 "nbformat_minor": 5
}
